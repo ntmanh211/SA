{
 "metadata": {
  "language_info": {
   "codemirror_mode": {
    "name": "ipython",
    "version": 3
   },
   "file_extension": ".py",
   "mimetype": "text/x-python",
   "name": "python",
   "nbconvert_exporter": "python",
   "pygments_lexer": "ipython3",
   "version": "3.7.4-final"
  },
  "orig_nbformat": 2,
  "kernelspec": {
   "name": "python_defaultSpec_1599208947788",
   "display_name": "Python 3.7.4 64-bit ('base': conda)"
  }
 },
 "nbformat": 4,
 "nbformat_minor": 2,
 "cells": [
  {
   "cell_type": "code",
   "execution_count": 1,
   "metadata": {
    "tags": []
   },
   "outputs": [],
   "source": [
    "import csv\n",
    "with open(\"data.csv\") as data:\n",
    "    df = csv.reader(data)\n",
    "    # for row in data:\n",
    "    #     print(row)"
   ]
  },
  {
   "cell_type": "code",
   "execution_count": 2,
   "metadata": {
    "tags": []
   },
   "outputs": [
    {
     "output_type": "error",
     "ename": "FileNotFoundError",
     "evalue": "[Errno 2] No such file or directory: 'data/neutral.csv'",
     "traceback": [
      "\u001b[0;31m---------------------------------------------------------------------------\u001b[0m",
      "\u001b[0;31mFileNotFoundError\u001b[0m                         Traceback (most recent call last)",
      "\u001b[0;32m<ipython-input-2-7188a9f97945>\u001b[0m in \u001b[0;36m<module>\u001b[0;34m\u001b[0m\n\u001b[1;32m      1\u001b[0m \u001b[0;32mimport\u001b[0m \u001b[0mpandas\u001b[0m \u001b[0;32mas\u001b[0m \u001b[0mpd\u001b[0m\u001b[0;34m\u001b[0m\u001b[0;34m\u001b[0m\u001b[0m\n\u001b[0;32m----> 2\u001b[0;31m \u001b[0mdf\u001b[0m \u001b[0;34m=\u001b[0m \u001b[0mpd\u001b[0m\u001b[0;34m.\u001b[0m\u001b[0mread_csv\u001b[0m\u001b[0;34m(\u001b[0m\u001b[0;34m'data/neutral.csv'\u001b[0m\u001b[0;34m,\u001b[0m \u001b[0mdelimiter\u001b[0m\u001b[0;34m=\u001b[0m\u001b[0;34m'\\t'\u001b[0m\u001b[0;34m,\u001b[0m \u001b[0merror_bad_lines\u001b[0m\u001b[0;34m=\u001b[0m\u001b[0;32mFalse\u001b[0m\u001b[0;34m)\u001b[0m\u001b[0;34m\u001b[0m\u001b[0;34m\u001b[0m\u001b[0m\n\u001b[0m\u001b[1;32m      3\u001b[0m \u001b[0mdf\u001b[0m\u001b[0;34m\u001b[0m\u001b[0;34m\u001b[0m\u001b[0m\n",
      "\u001b[0;32m~/miniconda3/lib/python3.7/site-packages/pandas/io/parsers.py\u001b[0m in \u001b[0;36mread_csv\u001b[0;34m(filepath_or_buffer, sep, delimiter, header, names, index_col, usecols, squeeze, prefix, mangle_dupe_cols, dtype, engine, converters, true_values, false_values, skipinitialspace, skiprows, skipfooter, nrows, na_values, keep_default_na, na_filter, verbose, skip_blank_lines, parse_dates, infer_datetime_format, keep_date_col, date_parser, dayfirst, cache_dates, iterator, chunksize, compression, thousands, decimal, lineterminator, quotechar, quoting, doublequote, escapechar, comment, encoding, dialect, error_bad_lines, warn_bad_lines, delim_whitespace, low_memory, memory_map, float_precision)\u001b[0m\n\u001b[1;32m    684\u001b[0m     )\n\u001b[1;32m    685\u001b[0m \u001b[0;34m\u001b[0m\u001b[0m\n\u001b[0;32m--> 686\u001b[0;31m     \u001b[0;32mreturn\u001b[0m \u001b[0m_read\u001b[0m\u001b[0;34m(\u001b[0m\u001b[0mfilepath_or_buffer\u001b[0m\u001b[0;34m,\u001b[0m \u001b[0mkwds\u001b[0m\u001b[0;34m)\u001b[0m\u001b[0;34m\u001b[0m\u001b[0;34m\u001b[0m\u001b[0m\n\u001b[0m\u001b[1;32m    687\u001b[0m \u001b[0;34m\u001b[0m\u001b[0m\n\u001b[1;32m    688\u001b[0m \u001b[0;34m\u001b[0m\u001b[0m\n",
      "\u001b[0;32m~/miniconda3/lib/python3.7/site-packages/pandas/io/parsers.py\u001b[0m in \u001b[0;36m_read\u001b[0;34m(filepath_or_buffer, kwds)\u001b[0m\n\u001b[1;32m    450\u001b[0m \u001b[0;34m\u001b[0m\u001b[0m\n\u001b[1;32m    451\u001b[0m     \u001b[0;31m# Create the parser.\u001b[0m\u001b[0;34m\u001b[0m\u001b[0;34m\u001b[0m\u001b[0;34m\u001b[0m\u001b[0m\n\u001b[0;32m--> 452\u001b[0;31m     \u001b[0mparser\u001b[0m \u001b[0;34m=\u001b[0m \u001b[0mTextFileReader\u001b[0m\u001b[0;34m(\u001b[0m\u001b[0mfp_or_buf\u001b[0m\u001b[0;34m,\u001b[0m \u001b[0;34m**\u001b[0m\u001b[0mkwds\u001b[0m\u001b[0;34m)\u001b[0m\u001b[0;34m\u001b[0m\u001b[0;34m\u001b[0m\u001b[0m\n\u001b[0m\u001b[1;32m    453\u001b[0m \u001b[0;34m\u001b[0m\u001b[0m\n\u001b[1;32m    454\u001b[0m     \u001b[0;32mif\u001b[0m \u001b[0mchunksize\u001b[0m \u001b[0;32mor\u001b[0m \u001b[0miterator\u001b[0m\u001b[0;34m:\u001b[0m\u001b[0;34m\u001b[0m\u001b[0;34m\u001b[0m\u001b[0m\n",
      "\u001b[0;32m~/miniconda3/lib/python3.7/site-packages/pandas/io/parsers.py\u001b[0m in \u001b[0;36m__init__\u001b[0;34m(self, f, engine, **kwds)\u001b[0m\n\u001b[1;32m    934\u001b[0m             \u001b[0mself\u001b[0m\u001b[0;34m.\u001b[0m\u001b[0moptions\u001b[0m\u001b[0;34m[\u001b[0m\u001b[0;34m\"has_index_names\"\u001b[0m\u001b[0;34m]\u001b[0m \u001b[0;34m=\u001b[0m \u001b[0mkwds\u001b[0m\u001b[0;34m[\u001b[0m\u001b[0;34m\"has_index_names\"\u001b[0m\u001b[0;34m]\u001b[0m\u001b[0;34m\u001b[0m\u001b[0;34m\u001b[0m\u001b[0m\n\u001b[1;32m    935\u001b[0m \u001b[0;34m\u001b[0m\u001b[0m\n\u001b[0;32m--> 936\u001b[0;31m         \u001b[0mself\u001b[0m\u001b[0;34m.\u001b[0m\u001b[0m_make_engine\u001b[0m\u001b[0;34m(\u001b[0m\u001b[0mself\u001b[0m\u001b[0;34m.\u001b[0m\u001b[0mengine\u001b[0m\u001b[0;34m)\u001b[0m\u001b[0;34m\u001b[0m\u001b[0;34m\u001b[0m\u001b[0m\n\u001b[0m\u001b[1;32m    937\u001b[0m \u001b[0;34m\u001b[0m\u001b[0m\n\u001b[1;32m    938\u001b[0m     \u001b[0;32mdef\u001b[0m \u001b[0mclose\u001b[0m\u001b[0;34m(\u001b[0m\u001b[0mself\u001b[0m\u001b[0;34m)\u001b[0m\u001b[0;34m:\u001b[0m\u001b[0;34m\u001b[0m\u001b[0;34m\u001b[0m\u001b[0m\n",
      "\u001b[0;32m~/miniconda3/lib/python3.7/site-packages/pandas/io/parsers.py\u001b[0m in \u001b[0;36m_make_engine\u001b[0;34m(self, engine)\u001b[0m\n\u001b[1;32m   1166\u001b[0m     \u001b[0;32mdef\u001b[0m \u001b[0m_make_engine\u001b[0m\u001b[0;34m(\u001b[0m\u001b[0mself\u001b[0m\u001b[0;34m,\u001b[0m \u001b[0mengine\u001b[0m\u001b[0;34m=\u001b[0m\u001b[0;34m\"c\"\u001b[0m\u001b[0;34m)\u001b[0m\u001b[0;34m:\u001b[0m\u001b[0;34m\u001b[0m\u001b[0;34m\u001b[0m\u001b[0m\n\u001b[1;32m   1167\u001b[0m         \u001b[0;32mif\u001b[0m \u001b[0mengine\u001b[0m \u001b[0;34m==\u001b[0m \u001b[0;34m\"c\"\u001b[0m\u001b[0;34m:\u001b[0m\u001b[0;34m\u001b[0m\u001b[0;34m\u001b[0m\u001b[0m\n\u001b[0;32m-> 1168\u001b[0;31m             \u001b[0mself\u001b[0m\u001b[0;34m.\u001b[0m\u001b[0m_engine\u001b[0m \u001b[0;34m=\u001b[0m \u001b[0mCParserWrapper\u001b[0m\u001b[0;34m(\u001b[0m\u001b[0mself\u001b[0m\u001b[0;34m.\u001b[0m\u001b[0mf\u001b[0m\u001b[0;34m,\u001b[0m \u001b[0;34m**\u001b[0m\u001b[0mself\u001b[0m\u001b[0;34m.\u001b[0m\u001b[0moptions\u001b[0m\u001b[0;34m)\u001b[0m\u001b[0;34m\u001b[0m\u001b[0;34m\u001b[0m\u001b[0m\n\u001b[0m\u001b[1;32m   1169\u001b[0m         \u001b[0;32melse\u001b[0m\u001b[0;34m:\u001b[0m\u001b[0;34m\u001b[0m\u001b[0;34m\u001b[0m\u001b[0m\n\u001b[1;32m   1170\u001b[0m             \u001b[0;32mif\u001b[0m \u001b[0mengine\u001b[0m \u001b[0;34m==\u001b[0m \u001b[0;34m\"python\"\u001b[0m\u001b[0;34m:\u001b[0m\u001b[0;34m\u001b[0m\u001b[0;34m\u001b[0m\u001b[0m\n",
      "\u001b[0;32m~/miniconda3/lib/python3.7/site-packages/pandas/io/parsers.py\u001b[0m in \u001b[0;36m__init__\u001b[0;34m(self, src, **kwds)\u001b[0m\n\u001b[1;32m   1996\u001b[0m         \u001b[0mkwds\u001b[0m\u001b[0;34m[\u001b[0m\u001b[0;34m\"usecols\"\u001b[0m\u001b[0;34m]\u001b[0m \u001b[0;34m=\u001b[0m \u001b[0mself\u001b[0m\u001b[0;34m.\u001b[0m\u001b[0musecols\u001b[0m\u001b[0;34m\u001b[0m\u001b[0;34m\u001b[0m\u001b[0m\n\u001b[1;32m   1997\u001b[0m \u001b[0;34m\u001b[0m\u001b[0m\n\u001b[0;32m-> 1998\u001b[0;31m         \u001b[0mself\u001b[0m\u001b[0;34m.\u001b[0m\u001b[0m_reader\u001b[0m \u001b[0;34m=\u001b[0m \u001b[0mparsers\u001b[0m\u001b[0;34m.\u001b[0m\u001b[0mTextReader\u001b[0m\u001b[0;34m(\u001b[0m\u001b[0msrc\u001b[0m\u001b[0;34m,\u001b[0m \u001b[0;34m**\u001b[0m\u001b[0mkwds\u001b[0m\u001b[0;34m)\u001b[0m\u001b[0;34m\u001b[0m\u001b[0;34m\u001b[0m\u001b[0m\n\u001b[0m\u001b[1;32m   1999\u001b[0m         \u001b[0mself\u001b[0m\u001b[0;34m.\u001b[0m\u001b[0munnamed_cols\u001b[0m \u001b[0;34m=\u001b[0m \u001b[0mself\u001b[0m\u001b[0;34m.\u001b[0m\u001b[0m_reader\u001b[0m\u001b[0;34m.\u001b[0m\u001b[0munnamed_cols\u001b[0m\u001b[0;34m\u001b[0m\u001b[0;34m\u001b[0m\u001b[0m\n\u001b[1;32m   2000\u001b[0m \u001b[0;34m\u001b[0m\u001b[0m\n",
      "\u001b[0;32mpandas/_libs/parsers.pyx\u001b[0m in \u001b[0;36mpandas._libs.parsers.TextReader.__cinit__\u001b[0;34m()\u001b[0m\n",
      "\u001b[0;32mpandas/_libs/parsers.pyx\u001b[0m in \u001b[0;36mpandas._libs.parsers.TextReader._setup_parser_source\u001b[0;34m()\u001b[0m\n",
      "\u001b[0;31mFileNotFoundError\u001b[0m: [Errno 2] No such file or directory: 'data/neutral.csv'"
     ]
    }
   ],
   "source": [
    "import pandas as pd\n",
    "df = pd.read_csv('data/neutral.csv', delimiter='\\t', error_bad_lines=False)\n",
    "df"
   ]
  },
  {
   "cell_type": "code",
   "execution_count": 3,
   "metadata": {},
   "outputs": [
    {
     "output_type": "execute_result",
     "data": {
      "text/plain": "                                               Content  Reviewer Sentiment\n0    Chủ tịch xã xin nghỉ việc sau khi bị tố có cli...                   0\n1    Mới đây, UBKT tỉnh Đắk Nông đã thi hành kỷ luậ...                   0\n2    Cán bộ trực đường dây nóng tiếp nhận ý kiến ph...                   2\n3    Ủy ban Kiểm tra (UBKT) Tỉnh ủy Đắk Nông vừa ti...                   0\n4    Truy tố 4 cán bộ thanh tra Bộ Xây dựng vòi 2 t...                   0\n..                                                 ...                 ...\n995  Bắc Bộ mưa dông, chấm dứt đợt nắng nóng kéo dà...                   2\n996  Nội dung phim khai thác thân phận con người tr...                   3\n997  Không còn chuyện đến hè lại… kêu!\\n- Do dịch C...                   1\n998  Mới gầy rộc sau khi ly hôn, Chung Hân Đồng đã ...                   3\n999  Thủy Tiên tiết lộ nguồn 'quỹ đen' của Công Vin...                   3\n\n[1000 rows x 2 columns]",
      "text/html": "<div>\n<style scoped>\n    .dataframe tbody tr th:only-of-type {\n        vertical-align: middle;\n    }\n\n    .dataframe tbody tr th {\n        vertical-align: top;\n    }\n\n    .dataframe thead th {\n        text-align: right;\n    }\n</style>\n<table border=\"1\" class=\"dataframe\">\n  <thead>\n    <tr style=\"text-align: right;\">\n      <th></th>\n      <th>Content</th>\n      <th>Reviewer Sentiment</th>\n    </tr>\n  </thead>\n  <tbody>\n    <tr>\n      <th>0</th>\n      <td>Chủ tịch xã xin nghỉ việc sau khi bị tố có cli...</td>\n      <td>0</td>\n    </tr>\n    <tr>\n      <th>1</th>\n      <td>Mới đây, UBKT tỉnh Đắk Nông đã thi hành kỷ luậ...</td>\n      <td>0</td>\n    </tr>\n    <tr>\n      <th>2</th>\n      <td>Cán bộ trực đường dây nóng tiếp nhận ý kiến ph...</td>\n      <td>2</td>\n    </tr>\n    <tr>\n      <th>3</th>\n      <td>Ủy ban Kiểm tra (UBKT) Tỉnh ủy Đắk Nông vừa ti...</td>\n      <td>0</td>\n    </tr>\n    <tr>\n      <th>4</th>\n      <td>Truy tố 4 cán bộ thanh tra Bộ Xây dựng vòi 2 t...</td>\n      <td>0</td>\n    </tr>\n    <tr>\n      <th>...</th>\n      <td>...</td>\n      <td>...</td>\n    </tr>\n    <tr>\n      <th>995</th>\n      <td>Bắc Bộ mưa dông, chấm dứt đợt nắng nóng kéo dà...</td>\n      <td>2</td>\n    </tr>\n    <tr>\n      <th>996</th>\n      <td>Nội dung phim khai thác thân phận con người tr...</td>\n      <td>3</td>\n    </tr>\n    <tr>\n      <th>997</th>\n      <td>Không còn chuyện đến hè lại… kêu!\\n- Do dịch C...</td>\n      <td>1</td>\n    </tr>\n    <tr>\n      <th>998</th>\n      <td>Mới gầy rộc sau khi ly hôn, Chung Hân Đồng đã ...</td>\n      <td>3</td>\n    </tr>\n    <tr>\n      <th>999</th>\n      <td>Thủy Tiên tiết lộ nguồn 'quỹ đen' của Công Vin...</td>\n      <td>3</td>\n    </tr>\n  </tbody>\n</table>\n<p>1000 rows × 2 columns</p>\n</div>"
     },
     "metadata": {},
     "execution_count": 3
    }
   ],
   "source": [
    "data = df[['Content','Reviewer Sentiment']]\n",
    "data"
   ]
  },
  {
   "cell_type": "code",
   "execution_count": 4,
   "metadata": {},
   "outputs": [
    {
     "output_type": "execute_result",
     "data": {
      "text/plain": "0      Chủ tịch xã xin nghỉ việc sau khi bị tố có cli...\n1      Mới đây, UBKT tỉnh Đắk Nông đã thi hành kỷ luậ...\n2      Cán bộ trực đường dây nóng tiếp nhận ý kiến ph...\n3      Ủy ban Kiểm tra (UBKT) Tỉnh ủy Đắk Nông vừa ti...\n4      Truy tố 4 cán bộ thanh tra Bộ Xây dựng vòi 2 t...\n                             ...                        \n995    Bắc Bộ mưa dông, chấm dứt đợt nắng nóng kéo dà...\n996    Nội dung phim khai thác thân phận con người tr...\n997    Không còn chuyện đến hè lại… kêu!\\n- Do dịch C...\n998    Mới gầy rộc sau khi ly hôn, Chung Hân Đồng đã ...\n999    Thủy Tiên tiết lộ nguồn 'quỹ đen' của Công Vin...\nName: Content, Length: 1000, dtype: object"
     },
     "metadata": {},
     "execution_count": 4
    }
   ],
   "source": [
    "content = data['Content']\n",
    "content"
   ]
  },
  {
   "cell_type": "code",
   "execution_count": 11,
   "metadata": {
    "tags": []
   },
   "outputs": [
    {
     "output_type": "stream",
     "name": "stdout",
     "text": "mới đây ubkt tỉnh đắk nông đã thi hành kỷ luật bằng hình thức cảnh cáo đối với đại tá dương thanh quế nguyên trưởng phòng an ninh kinh tế công an tỉnh đắk nông nguyên trưởng công an huyện tuy đức ông quế bị kỷ luật do đã ký quyết định khởi tố vụ án hình sự dẫn đến làm oan đối với vợ chồng ông nguyễn văn võ sinh năm 1963 và nguyễn thị thưởng sinh năm 1962 đều trú tại xã đắk búk so huyện tuy đức ông quế cũng để cơ quan csđt công an huyện tuy đức ký quyết định khởi tố bị can trái quy định của pháp luật dẫn đến quá trình điều tra truy tố và xét xử gây oan sai đối với hai vợ chồng cựu chiến binh nói trên ngoài ra ông nguyễn văn sơn nguyên trưởng công an thị xã gia nghĩa nay là tp gia nghĩa cũng bị kỷ luật cảnh cáo theo ubkt tỉnh trong quá trình công tác ông sơn do thiếu kiểm tra đôn đốc cán bộ trong hoạt động điều tra dẫn đến bỏ lọt tội phạm trong vụ đánh nhau gây thương tích ông này cũng thiếu trách nhiệm trong việc kiểm tra để cán bộ cấp dưới thực hiện sai quy trình giải quyết vụ đánh bạc tham mưu đề xuất kỷ luật đối với một số đồng chí cán bộ công an trong đơn vị không tương xứng với mức độ vi phạm ngoài ra ông sơn còn có hành vi quản lý sử dụng kinh phí an ninh  quốc phòng năm 2016 2017 không đúng quy định liên quan đến vụ kết án oan hai vợ chồng cựu chiến binh ở đắk nông trước đó tand tỉnh đắk nông đã xử lý các công chức có hành vi sai phạm cụ thể ông nguyễn hồng chương thôi giữ chức vụ chánh án tand huyện tuy đức và đã bị điều chuyện công tác đên đơn vị khác bị xử lý kỷ luật bằng hình thức khiển trách ông phạm văn quân thẩm phán tand huyện tuy đức bị bố trí công tác khác và bị xử lý kỷ luật với hình thức cảnh cáo trước đó đại diện cơ quan tố tụng làm oan đã có buổi xin lỗi công khai đối với vợ chồng ông võ\n"
    }
   ],
   "source": [
    "punctuations = '''!()-[]{};:'\"\\,<>./?@#$%^&*_~'''\n",
    "df = []\n",
    "for doc in content:\n",
    "    doc = doc.lower()\n",
    "    doc = doc.replace('\\n', ' ')\n",
    "    for char in doc:\n",
    "        if char in punctuations:\n",
    "            doc = doc.replace(char,'')\n",
    "    #print(doc)\n",
    "    df.append(doc)\n",
    "print(df[1])"
   ]
  },
  {
   "cell_type": "code",
   "execution_count": 17,
   "metadata": {
    "tags": []
   },
   "outputs": [],
   "source": [
    "word = []\n",
    "for doc in df:\n",
    "    doc = doc.split()\n",
    "    word.append(doc)"
   ]
  },
  {
   "cell_type": "code",
   "execution_count": 18,
   "metadata": {
    "tags": [
     "outputPrepend"
    ]
   },
   "outputs": [
    {
     "output_type": "stream",
     "name": "stdout",
     "text": "', 'để', 'trong', 'trường', 'hợp', 'xấu', 'nhất', 'vẫn', 'được', 'nhìn', 'thấy', 'bố', 'lần', 'cuối', 'đây', 'là', 'điều', 'khiến', 'văn', 'thanh', 'day', 'dứt', 'rất', 'nhiều', 'trong', 'thời', 'gian', 'qua', 'bởi', 'một', 'bên', 'là', 'chữ', 'hiếu', 'với', 'đấng', 'sinh', 'thành', 'một', 'bên', 'là', 'trách', 'nhiệm', 'với', 'đội', 'bóng', 'trong', 'thời', 'điểm', 'đang', 'gặp', 'không', 'ít', 'khó', 'khăn', 'về', 'lực', 'lượng', 'và', 'văn', 'thanh', 'đã', 'quyết', 'định', 'nén', 'nỗi', 'đau', 'ở', 'lại', 'cùng', 'các', 'đồng', 'đội', 'chiến', 'đấu', 'cho', 'hagl', 'sự', 'ổn', 'định', 'của', 'văn', 'thanh', 'trong', 'những', 'vòng', 'đấu', 'vừa', 'qua', 'đóng', 'góp', 'một', 'phần', 'không', 'nhỏ', 'cho', 'vị', 'trí', 'thứ', '4', 'hiện', 'tại', 'của', 'đội', 'bóng', 'hậu', 'vệ', 'mang', 'áo', 'số', '17', 'của', 'hagl', 'thời', 'gian', 'qua', 'cứ', 'thi', 'đấu', 'xong', 'lại', 'vội', 'vã', 'ra', 'sân', 'bay', 'về', 'nhà', 'với', 'bố', 'sau', 'đó', 'lại', 'trở', 'lại', 'tập', 'luyện', 'cùng', 'đồng', 'đội', 'trước', 'trận', 'đấu', 'tiếp', 'theo', 'ít', 'ngày', 'đây', 'là', 'giai', 'đoạn', 'đội', 'bóng', 'gặp', 'rất', 'nhiều', 'khó', 'khăn', 'lực', 'lượng', 'lại', 'mỏng', 'nên', 'tôi', 'quyết', 'định', 'ở', 'lại', 'thi', 'đấu', 'cùng', 'các', 'đồng', 'đội', 'đôi', 'khi', 'có', 'cảm', 'giác', 'vừa', 'đá', 'vừa', 'lo', 'không', 'biết', 'bố', 'như', 'thế', 'nào', 'dù', 'có', 'thế', 'nào', 'thì', 'tôi', 'biết', 'bố', 'cũng', 'sẽ', 'luôn', 'ủng', 'hộ', 'tôi', 'bởi', 'với', 'bố', 'bóng', 'đá', 'là', 'niềm', 'vui', 'và', 'ông', 'luôn', 'muốn', 'được', 'thấy', 'con', 'trai', 'được', 'chơi', 'bóng', 'trong', 'bất', 'kỳ', 'hoàn', 'cảnh', 'nào', 'bố', 'nằm', 'đó', 'ông', 'không', 'còn', 'nghe', 'không', 'còn', 'thấy', 'nữa', 'nhưng', 'tôi', 'tin', 'bố', 'cảm', 'nhận', 'được', 'những', 'điều', 'tôi', 'làm', 'và', 'tôi', 'muốn', 'bố', 'luôn', 'tự', 'hào', 'về', 'thằng', 'thanh', 'của', 'ông', 'văn', 'thanh', 'chia', 'sẻ', 'với', 'tạp', 'chí', 'bóng', 'đá', 'võ', 'sĩ', 'lưu', 'cường', 'tôi', 'rất', 'tôn', 'trọng', 'anh', 'nam', 'anh', 'kiệt', 'thắng', 'có', 'lẽ', 'nhờ', 'chút', 'may', 'mắn', 'thôi'], ['10', 'đội', 'bóng', 'tranh', 'tài', 'giải', 'bóng', 'đá', 'u10', 'huyện', 'sông', 'hinh', 'năm', '2020', 'giải', 'có', 'sự', 'tham', 'gia', 'của', '10', 'đội', 'bóng', 'đến', 'từ', 'các', 'xã', 'thị', 'trấn', 'các', 'đội', 'chia', 'làm', '3', 'bảng', 'đấu', 'thi', 'đấu', 'vòng', 'tròn', 'tính', 'điểm', 'chọn', 'ra', 'các', 'đại', 'diện', 'xuất', 'sắc', 'mỗi', 'bảng', 'để', 'có', 'mặt', 'ở', 'vòng', 'bán', 'kết', 'trận', 'chung', 'kết', 'giải', 'diễn', 'ra', 'vào', '15', 'giờ', 'ngày', '207', 'sau', 'giải', 'ban', 'tổ', 'chức', 'sẽ', 'chọn', 'các', 'cầu', 'thủ', 'xuất', 'sắc', 'nhất', 'đại', 'diện', 'cho', 'huyện', 'sông', 'hinh', 'thi', 'đấu', 'tại', 'giải', 'bóng', 'đá', 'u10', 'tỉnh', 'phú', 'yên', 'năm', '2020', 'nhiều', 'năm', 'qua', 'đội', 'tuyển', 'u10', 'huyện', 'sông', 'hinh', 'là', 'một', 'trong', 'những', 'đội', 'bóng', 'đạt', 'thành', 'tích', 'tốt', 'tại', 'ngày', 'hội', 'lớn', 'nhất', 'của', 'bóng', 'đá', 'u10', 'tỉnh', 'phú', 'yên'], ['bắc', 'bộ', 'mưa', 'dông', 'chấm', 'dứt', 'đợt', 'nắng', 'nóng', 'kéo', 'dài', 'theo', 'trung', 'tâm', 'dự', 'báo', 'kttv', 'quốc', 'gia', 'hiện', 'nay', '207', 'vùng', 'hội', 'tụ', 'gió', 'trên', 'cao', 'đang', 'hoạt', 'động', 'trên', 'khu', 'vực', 'vùng', 'núi', 'bắc', 'bộ', 'dự', 'báo', 'vùng', 'hội', 'tụ', 'gió', 'trên', 'cao', 'hoạt', 'động', 'mạnh', 'dần', 'lên', 'nên', 'từ', 'nay', 'ở', 'bắc', 'bộ', 'có', 'mưa', 'rào', 'và', 'dông', 'tây', 'bắc', 'và', 'việt', 'bắc', 'có', 'mưa', 'vừa', 'mưa', 'to', 'có', 'nơi', 'mưa', 'rất', 'to', 'với', 'lượng', 'mưa', 'phổ', 'biến', '50100mm24h', 'có', 'nơi', 'trên', '150mm24h', 'trong', 'mưa', 'dông', 'có', 'khả', 'năng', 'xảy', 'ra', 'lốc', 'sét', 'mưa', 'đá', 'và', 'gió', 'giật', 'mạnh', 'đợt', 'mưa', 'này', 'có', 'khả', 'năng', 'kéo', 'dài', 'trong', '23', 'ngày', 'tới', 'thời', 'gian', 'mưa', 'tập', 'trung', 'vào', 'đêm', 'và', 'sáng', 'sớm', 'khu', 'vực', 'hà', 'nội', 'từ', 'nay', 'đến', '227', 'khả', 'năng', 'xảy', 'ra', 'mưa', 'rào', 'và', 'dông', 'trong', 'mưa', 'dông', 'đề', 'phòng', 'lốc', 'sét', 'mưa', 'đá', 'và', 'gió', 'giật', 'mạnh', 'hôm', 'nay', 'hà', 'nội', 'và', 'các', 'tỉnh', 'miền', 'bắc', 'đón', 'mưa', 'rào', 'kết', 'thúc', 'nắng', 'nóng', 'gay', 'gắt', 'trong', 'khi', 'đó', 'ở', 'trung', 'bộ', 'tiếp', 'tục', 'có', 'nắng', 'nóng', 'các', 'tỉnh', 'từ', 'nghệ', 'an', 'đến', 'quảng', 'trị', 'có', 'nắng', 'nóng', 'gay', 'gắt', 'có', 'nơi', 'đặc', 'biệt', 'gay', 'gắt', 'với', 'nền', 'nhiệt', 'độ', 'cao', 'nhất', 'phổ', 'biến', '3538', 'độ', 'có', 'nơi', 'trên', '39', 'độ', 'độ', 'ẩm', 'tương', 'đối', 'thấp', 'nhất', 'trong', 'ngày', 'phổ', 'biến', '4055', 'thời', 'gian', 'có', 'nhiệt', 'độ', 'trên', '35', 'độ', 'từ', '1018', 'giờ', 'nắng', 'nóng', 'ở', 'trung', 'bộ', 'còn', 'có', 'khả', 'năng', 'kéo', 'dài', 'trong', 'nhiều', 'ngày', 'tới', 'hôm', 'nay', 'chỉ', 'số', 'tia', 'uv', 'ở', 'đà', 'nẵng', 'có', 'giá', 'trị', 'từ', '810', 'với', 'mức', 'ảnh', 'hưởng', 'nguy', 'cơ', 'gây', 'hại', 'rất', 'cao', 'đối', 'với', 'cơ', 'thể', 'con', 'người', 'khi', 'tiếp', 'xúc', 'trực', 'tiếp', 'với', 'ánh', 'nắng', 'dư', 'báo', 'chi', 'tiết', 'các', 'vùng', 'trên', 'cả', 'nước', 'ngày', 'và', 'đêm', '207', 'phía', 'tây', 'bắc', 'bộ', 'có', 'mưa', 'vừa', 'mưa', 'to', 'có', 'nơi', 'mưa', 'rất', 'to', 'và', 'dông', 'trong', 'cơn', 'dông', 'có', 'khả', 'năng', 'xảy', 'ra', 'lốc', 'sét', 'mưa', 'đá', 'và', 'gió', 'giật', 'mạnh', 'nhiệt', 'độ', '2535', 'độ', 'có', 'nơi', 'trên', '35', 'độ', 'c', 'phía', 'đông', 'bắc', 'bộ', 'có', 'mưa', 'có', 'nơi', 'mưa', 'vừa', 'mưa', 'to', 'và', 'rải', 'rác', 'có', 'dông', 'vùng', 'núi', 'có', 'mưa', 'vừa', 'mưa', 'to', 'có', 'nơi', 'mưa', 'rất', 'to', 'trong', 'cơn', 'dông', 'có', 'khả', 'năng', 'xảy', 'ra', 'lốc', 'sét', 'mưa', 'đá', 'và', 'gió', 'giật', 'mạnh', 'nhiệt', 'độ', '2634', 'độ', 'có', 'nơi', 'trên', '35', 'độ', 'c', 'hà', 'nội', 'sáng', 'và', 'đêm', 'có', 'mưa', 'rào', 'và', 'rải', 'rác', 'có', 'dông', 'cục', 'bộ', 'có', 'mưa', 'vừa', 'mưa', 'to', 'trong', 'cơn', 'dông', 'cần', 'đề', 'phòng', 'lốc', 'sét', 'mưa', 'đá', 'và', 'gió', 'giật', 'mạnh', 'nhiệt', 'độ', '2635', 'độ', 'c', 'thanh', 'hóa', 'thừa', 'thiên', 'huế', 'ngày', 'nắng', 'nóng', 'và', 'nắng', 'nóng', 'gay', 'gắt', 'có', 'nơi', 'đặc', 'biệt', 'gay', 'gắt', 'chiều', 'tối', 'và', 'đêm', 'có', 'mưa', 'rào', 'và', 'dông', 'vài', 'nơi', 'nhiệt', 'độ', '2638', 'độ', 'có', 'nơi', 'trên', '39', 'độ', 'c', 'đà', 'nẵng', 'đến', 'bình', 'thuận', 'ngày', 'nắng', 'nóng', 'phía', 'bắc', 'có', 'nơi', 'nắng', 'nóng', 'gay', 'gắt', 'chiều', 'tối', 'và', 'đêm', 'có', 'mưa', 'rào', 'và', 'dông', 'vài', 'nơi', 'trong', 'cơn', 'dông', 'có', 'khả', 'năng', 'xảy', 'ra', 'lốc', 'sét', 'mưa', 'đá', 'và', 'gió', 'giật', 'mạnh', 'nhiệt', 'độ', '2536', 'độ', 'phía', 'bắc', 'có', 'nơi', 'trên', '37', 'độ', 'c', 'tây', 'nguyên', 'có', 'mưa', 'rào', 'và', 'dông', 'vài', 'nơi', 'chiều', 'tối', 'và', 'tối', 'có', 'mưa', 'rào', 'và', 'rải', 'rác', 'có', 'dông', 'cục', 'bộ', 'có', 'mưa', 'vừa', 'mưa', 'to', 'trong', 'cơn', 'dông', 'có', 'thể', 'xảy', 'ra', 'lốc', 'sét', 'và', 'gió', 'giật', 'mạnh', 'nhiệt', 'độ', '2133', 'độ', 'có', 'nơi', 'trên', '33', 'độ', 'c', 'nam', 'bộ', 'có', 'mưa', 'rào', 'và', 'dông', 'vài', 'nơi', 'chiều', 'tối', 'và', 'tối', 'có', 'mưa', 'rào', 'và', 'rải', 'rác', 'có', 'dông', 'cục', 'bộ', 'có', 'mưa', 'vừa', 'mưa', 'to', 'trong', 'cơn', 'dông', 'có', 'khả', 'năng', 'xảy', 'ra', 'lốc', 'sét', 'và', 'gió', 'giật', 'mạnh', 'nhiệt', 'độ', '2434', 'độ', 'c', 'video', 'dân', 'miền', 'trung', 'ra', 'biển', 'dựng', 'lều', 'trốn', 'nắng', 'nóng'], ['nội', 'dung', 'phim', 'khai', 'thác', 'thân', 'phận', 'con', 'người', 'trên', 'vùng', 'cồn', 'cát', 'nắng', 'cháy', 'khô', 'cằn', 'nhưng', 'giàu', 'tình', 'yêu', 'thương', 'và', 'động', 'lực', 'sống', 'mạnh', 'mẽ', 'câu', 'chuyện', 'cảm', 'động', 'của', 'cát', 'đỏ', 'hứa', 'hẹn', 'khiến', 'người', 'xem', 'có', 'thể', 'khóc', 'cười', 'với', 'từng', 'nhân', 'vật', 'chia', 'sẻ', 'về', 'nhân', 'vật', 'của', 'mình', 'thúy', 'diễm', 'cho', 'biết', 'khi', 'nhận', 'kịch', 'bản', 'cô', 'có', 'phần', 'lo', 'lắng', 'và', 'phân', 'vân', 'bởi', 'vai', 'nhớ', 'trong', 'phim', 'hoàn', 'toàn', 'khác', 'với', 'cô', 'đạo', 'diễn', 'không', 'chỉ', 'đòi', 'hỏi', 'thúy', 'diễm', 'tăng', 'cân', 'phơi', 'da', 'thật', 'đen', 'để', 'mặt', 'không', 'trang', 'điểm', 'mà', 'phải', 'biến', 'hóa', 'thành', 'cô', 'gái', 'sống', 'ở', 'đồi', 'cát', 'nắng', 'và', 'gió', 'khắc', 'nghiệt', 'biết', 'cưỡi', 'ngựa', 'lái', 'xe', 'bán', 'tải', 'biết', 'làm', 'nước', 'mắm', 'và', 'nhất', 'là', 'biết…', 'đánh', 'nhau', 'để', 'có', 'được', 'vai', 'diễn', 'này', 'thúy', 'diễm', 'đã', 'phải', 'thử', 'vai', 'đến', '56', 'lần', 'mới', 'thuyết', 'phục', 'được', 'đạo', 'diễn', 'kiêm', 'biên', 'kịch', 'của', 'phim', 'lưu', 'trọng', 'ninh', 'cô', 'đã', 'phải', 'học', 'cưỡi', 'ngựa', 'phải', 'chịu', 'nắng', 'chịu', 'gió', 'trong', 'suốt', 'sáu', 'tháng', 'liền', 'nói', 'về', 'thúy', 'diễm', 'đạo', 'diễn', 'lưu', 'trọng', 'ninh', 'cho', 'biết', 'thúy', 'diễm', 'ngoài', 'đời', 'đẹp', 'khi', 'quay', 'cô', 'ấy', 'đẹp', 'quá', 'tôi', 'nói', 'nhỏ', 'với', 'quay', 'phim', 'là', 'phải', 'làm', 'giảm', 'cái', 'đẹp', 'ấy', 'đi', 'với', 'mọi', 'diễn', 'viên', 'tôi', 'muốn', 'họ', 'có', 'vẻ', 'đẹp', 'gần', 'gũi', 'với', 'đời', 'thường', 'mộc', 'mạc', 'mặc', 'khác', 'trong', 'cát', 'đỏ', 'câu', 'chuyện', 'tình', 'khai', 'thác', 'đến', 'tận', 'cùng', 'của', 'yêu', 'thương', 'ghen', 'tuông', 'thù', 'hận', 'nhớ', 'nhung…', 'vì', 'thế', 'phim', 'có', 'cảnh', 'tình', 'cảm', 'cảnh', 'nóng', 'tình', 'yêu', 'tay', 'ba', 'tay', 'tư', 'để', 'tạo', 'ra', 'cao', 'trào', 'thúy', 'diễm', 'kể', 'nhân', 'vật', 'của', 'cô', 'phải', 'quay', 'những', 'cảnh', 'yêu', 'thương', 'với', 'những', 'anh', 'chàng', 'hot', 'boy', 'như', 'võ', 'cảnh', 'thanh', 'tùng', 'được', 'biết', 'bối', 'cảnh', 'chính', 'của', 'phim', 'tại', 'bình', 'thuận', 'và', 'một', 'phần', 'phú', 'yên', 'thời', 'gian', 'quay', 'kéo', 'dài', 'gần', 'nửa', 'năm', 'ngoài', 'thúy', 'diễm', 'phim', 'còn', 'có', 'sự', 'tham', 'gia', 'của', 'các', 'diễn', 'viên', 'tuyết', 'hương', 'thúy', 'nga', 'thanh', 'tùng', 'kim', 'huyền', 'thạch', 'kim', 'long', 'võ', 'cảnh', 'võ', 'nghi', 'bình', 'bộ', 'phim', 'truyền', 'hình', 'cát', 'đỏ', 'sẽ', 'chính', 'thức', 'được', 'lên', 'sóng', 'vào', '21', 'giờ', '30', 'phút', 'thứ', '5', 'và', 'thứ', '6', 'hàng', 'tuần', 'trên', 'kênh', 'vtv3', 'bắt', 'đầu', 'từ', 'ngày', '307'], ['không', 'còn', 'chuyện', 'đến', 'hè', 'lại…', 'kêu', 'do', 'dịch', 'covid19', 'nên', 'ngắn', 'hơn', 'mọi', 'năm', 'chuyện', 'đó', 'thì', 'ai', 'cũng', 'biết', 'mà', 'vậy', 'có', 'chuyện', 'chi', 'là', 'không', 'ai', 'biết', 'không', 'phải', 'là', 'không', 'ai', 'biết', 'mà…', 'ít', 'người', 'để', 'ý', 'là', 'mấy', 'năm', 'trước', 'vào', 'hè', 'được', 'mấy', 'hôm', 'là', 'đã', 'thấy', 'dân', 'tình', 'rồi', 'báo', 'chí', 'than', 'phiền', 'là', 'trẻ', 'nghỉ', 'hè', 'thì', 'chơi', 'ở', 'đâu', 'năm', 'nay', 'thì', 'không', 'thấy', 'kêu', 'ca', 'chi', 'nữa', 'thì', 'nghỉ', 'hè', 'ngắn', 'chơi', 'mấy', 'bữa', 'ở', 'nhà', 'hay', 'đâu', 'đó', 'tàm', 'tạm', 'cũng', 'được', 'nên', 'người', 'ta', 'không', 'kêu', 'nữa', 'có', 'thể', 'là', 'vậy', 'nhưng', 'theo', 'thiển', 'ý', 'của', 'anh', 'ba', 'thì', 'đây', 'mới', 'là', 'lý', 'do', 'chính', 'anh', 'ba', 'nói', 'thử', 'coi', 'biết', 'dịch', 'dã', 'trên', 'thế', 'giới', 'chưa', 'nguôi', 'nghỉ', 'hè', 'lại', 'ngắn', 'cho', 'nên', 'nhiều', 'gia', 'đình', 'không', 'cho', 'con', 'cái', 'đi', 'chơi', 'xa', 'các', 'trung', 'tâm', 'văn', 'hóa', 'quận', 'huyện', 'đã', 'chủ', 'động', 'bằng', 'các', 'kế', 'hoạch', 'chương', 'trình', 'phục', 'vụ', 'hoạt', 'động', 'hè', 'của', 'trẻ', 'rất', 'chi', 'là', 'xôm', 'tụ', 'như', 'trung', 'tâm', 'văn', 'hóa', 'huyện', 'hóc', 'môn', 'tổ', 'chức', 'hoạt', 'động', 'hè', 'cho', 'thiếu', 'niên', 'nhi', 'đồng', 'với', 'chủ', 'đề', 'hè', 'vui', 'khỏe', 'bổ', 'ích', 'an', 'toàn', 'với', 'nhiều', 'sân', 'chơi', 'hấp', 'dẫn', 'phù', 'hợp', 'từng', 'lứa', 'tuổi', 'như', 'võ', 'thuật', 'đờn', 'ca', 'tài', 'tử', 'dạy', 'đàn', 'khiêu', 'vũ', 'thể', 'hình', 'nhảy', 'hiện', 'đại…', 'nhà', 'thiếu', 'nhi', 'quận', '12', 'tổ', 'chức', 'nhiều', 'hoạt', 'động', 'vui', 'chơi', 'giải', 'trí', 'như', 'hội', 'thi', 'viết', 'về', 'cuốn', 'sách', 'yêu', 'thích', 'hội', 'trại', 'khám', 'phá', 'thiên', 'nhiên', 'các', 'lớp', 'học', 'năng', 'khiếu', 'chiếu', 'phim', 'miễn', 'phí', 'ðặc', 'biệt', 'là', 'đơn', 'vị', 'nầy', 'còn', 'mở', 'thêm', 'hai', 'lớp', 'học', 'năng', 'khiếu', 'miễn', 'phí', 'cử', 'giáo', 'viên', 'đến', 'dạy', 'ngay', 'tại', 'nhà', 'cho', 'các', 'em', 'nhỏ', 'tại', 'khu', 'lưu', 'trú', 'công', 'nhân', 'phường', 'an', 'phú', 'ðông', 'thiệt', 'là', 'chu', 'đáo', 'nghĩa', 'tình', 'rồi', 'sao', 'nữa', 'tại', 'thảo', 'cầm', 'viên', 'sài', 'gòn', 'chương', 'trình', 'hè', 'sẽ', 'được', 'tổ', 'chức', 'với', 'nhiều', 'sân', 'chơi', 'hấp', 'dẫn', 'truyền', 'tải', 'thông', 'điệp', 'bảo', 'vệ', 'môi', 'trường', 'yêu', 'thương', 'động', 'vật', 'và', 'các', 'giá', 'trị', 'nhân', 'văn', 'trong', 'cuộc', 'sống', 'nhắm', 'chừng', 'hè', 'nầy', 'các', 'nơi', 'lo', 'toan', 'chu', 'đáo', 'nơi', 'chốn', 'vui', 'chơi', 'cho', 'tụi', 'nhỏ', 'ðây', 'có', 'thể', 'coi', 'là', 'một', 'bước', 'tiến', 'mới', 'của', 'các', 'trung', 'tâm', 'văn', 'hóa', 'nhà', 'thiếu', 'nhi', 'không', 'anh', 'ba', 'không', 'phải', 'là', 'bước', 'tiến', 'mới', 'đâu', 'tư', 'mà', 'là', 'quay', 'trở', 'về', 'đúng', 'với', 'công', 'năng', 'nhiệm', 'vụ', 'là', 'phục', 'vụ', 'nhu', 'cầu', 'văn', 'hóa', 'vui', 'chơi', 'giải', 'trí', 'cho', 'cộng', 'đồng', 'dân', 'cư', 'chứ', 'không', 'phải', 'là', 'nơi', 'cho', 'thuê', 'mặt', 'bằng', 'để', 'kinh', 'doanh', 'đủ', 'thứ', 'như', 'mấy', 'năm', 'rồi', 'nhờ', 'đó', 'mà', 'năm', 'nay', 'không', 'còn', 'chuyện', 'đến', 'hè', 'lại…', 'kêu'], ['mới', 'gầy', 'rộc', 'sau', 'khi', 'ly', 'hôn', 'chung', 'hân', 'đồng', 'đã', 'lại', 'tăng', 'cân', 'béo', 'nhanh', 'chóng', 'mặt', 'hình', 'ảnh', 'mới', 'đây', 'nhất', 'của', 'chung', 'hân', 'đồng', 'khiến', 'không', 'ít', 'người', 'giật', 'mình', 'hôm', 'nay', 'ngày', '207', 'sina', 'vừa', 'đăng', 'tải', 'bài', 'viết', 'mới', 'nhất', 'về', 'chung', 'hân', 'đồng', 'được', 'biết', 'cô', 'xuất', 'hiện', 'trong', 'buổi', 'livestream', 'bán', 'hàng', 'trên', 'mạng', 'xuất', 'hiện', 'trước', 'tất', 'cả', 'mọi', 'người', 'chung', 'hân', 'đồng', 'để', 'lộ', 'thân', 'hình', 'béo', 'ú', 'vì', 'tăng', 'cân', 'chung', 'hân', 'đồng', 'tăng', 'cân', 'chóng', 'mặt', 'sau', 'khi', 'ly', 'hôn', 'nhiều', 'người', 'bất', 'ngờ', 'khi', 'thấy', 'dáng', 'vẻ', 'của', 'chung', 'hân', 'đồng', 'bởi', 'quả', 'thực', 'cô', 'khác', 'xa', 'với', 'hình', 'ảnh', 'trước', 'đó', 'không', 'lâu', 'được', 'biết', 'sau', 'khi', 'ly', 'hôn', 'chung', 'hân', 'đồng', 'gầy', 'rộc', 'hốc', 'hác', 'vì', 'lo', 'nghĩ', 'quá', 'nhiều', 'chuyện', 'tăng', 'cân', 'trở', 'lại', 'của', 'chung', 'hân', 'đồng', 'khiến', 'fan', 'mừng', 'thay', 'cho', 'cô', 'điều', 'này', 'cũng', 'chứng', 'tỏ', 'rằng', 'nữ', 'diễn', 'viên', 'đang', 'phục', 'hồi', 'tâm', 'lý', 'dần', 'dần', 'vóc', 'dáng', 'của', 'chung', 'hân', 'đồng', 'khiến', 'không', 'ít', 'người', 'ngỡ', 'ngàng', 'cô', 'thay', 'đổi', 'khá', 'nhiều', 'so', 'với', 'thời', 'điểm', 'mới', 'ly', 'hôn', 'một', 'số', 'người', 'nhận', 'xét', 'chung', 'hân', 'đồng', 'trông', 'vẫn', 'xinh', 'đẹp', 'và', 'trẻ', 'trung', 'dù', 'đã', 'ở', 'tuổi', '39', 'dù', 'vóc', 'dáng', 'của', 'cô', 'có', 'tròn', 'trịa', 'nhưng', 'thần', 'sắc', 'có', 'tốt', 'hơn', 'tươi', 'tắn', 'hơn', 'chung', 'hân', 'đồng', 'không', 'buồn', 'bã', 'vì', 'những', 'thông', 'tin', 'không', 'hay', 'về', 'chồng', 'cũ', 'như', 'báo', 'chí', 'đưa', 'tin', 'được', 'biết', 'chung', 'hân', 'đồng', 'tuyên', 'bố', 'ly', 'hôn', 'với', 'bác', 'sĩ', 'lại', 'hoằng', 'quốc', 'vào', 'tháng', '5', 'vừa', 'rồi', 'cặp', 'đôi', 'đã', 'có', '14', 'tháng', 'là', 'vợ', 'chồng', 'trước', 'khi', 'chính', 'thức', 'đường', 'ai', 'nấy', 'đi', 'sau', 'khi', 'ly', 'hôn', 'chung', 'hân', 'đồng', 'xuất', 'hiện', 'với', 'dáng', 'vẻ', 'mệt', 'mỏi', 'hốc', 'hác', 'chung', 'hân', 'đồng', 'từng', 'gầy', 'gò', 'sau', 'khi', 'ly', 'hôn', 'lại', 'hoằng', 'quốc', 'trong', 'khi', 'đó', 'bác', 'sĩ', 'lại', 'vẫn', 'béo', 'tốt', 'thường', 'xuyên', 'lộ', 'ảnh', 'ra', 'ngoài', 'chơi', 'tụ', 'tập', 'bạn', 'bè', 'theo', 'truyền', 'thông', 'hong', 'kong', 'chung', 'hân', 'đồng', 'bị', 'trầm', 'cảm', 'nhẹ', 'từ', 'sau', 'vụ', 'ly', 'hôn', 'cô', 'thường', 'xuyên', 'mất', 'ngủ', 'và', 'hay', 'bỏ', 'ăn', 'nữ', 'diễn', 'viên', 'cũng', 'tạm', 'dừng', 'một', 'số', 'hoạt', 'động', 'giải', 'trí', 'để', 'nghỉ', 'ngơi', 'nhưng', 'sự', 'xuất', 'hiện', 'mới', 'đây', 'của', 'chung', 'hân', 'đồng', 'đã', 'chứng', 'minh', 'cô', 'đã', 'ổn', 'định', 'tâm', 'lý', 'nhắc', 'đến', 'chung', 'hân', 'đồng', 'khán', 'giả', 'biết', 'cô', 'là', 'thành', 'viên', 'nhóm', 'nhạc', 'twins', 'là', 'một', 'nữ', 'diễn', 'viên', 'nổi', 'tiếng', 'màn', 'ảnh', 'hoa', 'ngữ', 'chung', 'hân', 'đồng', 'cũng', 'được', 'biết', 'đến', 'qua', 'các', 'phim', 'như', 'beyond', 'our', 'ken', 'house', 'of', 'fury', 'the', 'twins', 'effect', 'cổ', 'kiếm', 'kỳ', 'đàm', 'võ', 'tắc', 'thiên', 'bí', 'sử', 'chung', 'hân', 'đồng', 'từng', 'là', 'nàng', 'thơ', 'được', 'khán', 'giả', 'yêu', 'thích', 'chung', 'hân', 'đồng', 'từng', 'có', 'quá', 'khứ', 'lộ', 'clip', 'sex', 'với', 'tài', 'tử', 'trần', 'quán', 'hy', 'vụ', 'bê', 'bối', 'này', 'khiến', 'cho', 'chung', 'hân', 'đồng', 'đau', 'khổ', 'một', 'thời', 'gian', 'dài', 'cũng', 'vì', 'bê', 'bối', 'này', 'mà', 'cô', 'gần', 'như', 'không', 'tìm', 'được', 'tình', 'yêu', 'đúng', 'nghĩa', 'năm', '2018', 'chung', 'hân', 'đồng', 'kết', 'hôn', 'với', 'bác', 'sĩ', 'lại', 'hoằng', 'quốc', 'chỉ', 'sau', '7', 'tháng', 'hẹn', 'hò', 'đáng', 'tiếc', 'cuộc', 'hôn', 'nhân', 'này', 'cũng', 'chẳng', 'thể', 'kéo', 'dài', 'được', 'lâu', 'chung', 'hân', 'đồng', 'và', 'lại', 'hoằng', 'quốc', 'là', 'vợ', 'chồng', 'được', '14', 'tháng', 'thì', 'ly', 'hôn', 'được', 'biết', 'lại', 'hoằng', 'quốc', 'không', 'chỉ', 'lười', 'làm', 'việc', 'dựa', 'dẫm', 'vào', 'vợ', 'mà', 'còn', 'lén', 'lút', 'qua', 'lại', 'với', 'các', 'cô', 'gái', 'bên', 'ngoài', 'anh', 'này', 'cũng', 'có', 'tình', 'sử', 'với', 'nhiều', 'người', 'đẹp', 'trước', 'thậm', 'chí', 'cả', 'sau', 'khi', 'kết', 'hôn', 'vì', 'không', 'chấp', 'nhận', 'cảnh', 'bị', 'phản', 'bội', 'nên', 'chung', 'hân', 'đồng', 'đã', 'quyết', 'định', 'ly', 'hôn'], ['thủy', 'tiên', 'tiết', 'lộ', 'nguồn', 'quỹ', 'đen', 'của', 'công', 'vinh', 'khuyến', 'khích', 'chồng', 'kiếm', 'thêm', 'vì', 'lành', 'mạnh', 'cô', 'nàng', 'mong', 'quỹ', 'đen', 'của', 'chồng', 'ngày', 'càng', 'nhiều', 'để', 'dẫn', 'cô', 'đi', 'chơi', 'thoả', 'thích', 'vài', 'phút', 'trước', 'thủy', 'tiên', 'tự', 'hào', 'vì', 'ông', 'xã', 'công', 'vinh', 'xếp', 'hạng', '14', 'chung', 'cuộc', 'tại', 'giải', 'golf', 'nghiệp', 'dư', 'quốc', 'gia', '2020', 'đây', 'là', 'lần', 'đầu', 'tiên', 'cựu', 'tiền', 'đạo', 'tuyển', 'việt', 'nam', 'tham', 'gia', 'giải', 'đấu', 'và', 'đã', 'giành', 'thành', 'tích', 'ngoài', 'mong', 'đợi', 'dù', 'anh', 'mới', 'chỉ', 'chơi', 'golf', 'hơn', '3', 'năm', 'bên', 'cạnh', 'đó', 'nữ', 'ca', 'sĩ', 'còn', 'tiết', 'lộ', 'nguồn', 'quỹ', 'đen', 'của', 'công', 'vinh', 'có', 'được', 'cũng', 'từ', 'môn', 'thể', 'thao', 'này', 'mà', 'ra', 'thay', 'vì', 'trách', 'cứ', 'nữ', 'ca', 'sĩ', 'còn', 'nuôi', 'hi', 'vọng', 'ông', 'xã', 'một', 'ngày', 'nào', 'đó', 'sẽ', 'có', 'được', '100000', 'usd', 'nhờ', 'chơi', 'golf', 'riêng', 'công', 'vinh', 'anh', 'cũng', 'đăng', 'đàn', 'trách', 'yêu', 'vợ', 'rằng', 'vợ', 'gì', 'kì', 'toàn', 'dòm', 'ngó', 'tài', 'sản', 'của', 'chồng', 'không', 'à', 'ở', 'phần', 'bình', 'luận', 'đông', 'đảo', 'khán', 'giả', 'đều', 'dành', 'nhiều', 'lời', 'khen', 'tới', 'tài', 'năng', 'của', 'công', 'vinh', 'và', 'không', 'ngớt', 'lời', 'thích', 'thú', 'trước', 'tính', 'cách', 'hài', 'hước', 'dí', 'dỏm', 'của', 'thủy', 'tiên', 'thuỷ', 'tiên', 'chia', 'sẻ', 'quỹ', 'đen', 'của', 'chồng', 'và', 'hài', 'lòng', 'vì', 'nó', 'lành', 'mạnh']]\n"
    }
   ],
   "source": [
    "print(word)"
   ]
  },
  {
   "cell_type": "code",
   "execution_count": 26,
   "metadata": {},
   "outputs": [],
   "source": [
    "from keras.models import Sequential\n",
    "from keras.layers import Dense\n",
    "from keras.layers import LSTM\n",
    "from keras.layers import Dropout"
   ]
  },
  {
   "cell_type": "code",
   "execution_count": 3,
   "metadata": {},
   "outputs": [],
   "source": [
    "import pandas as pd\n",
    "negative = pd.read_excel('/media/vtcc-anhntm/sda4_mnt/SA/data/Tỉnh_MXH_Tiêu cực 3107.xlsx')\n",
    "positive = pd.read_excel('/media/vtcc-anhntm/sda4_mnt/SA/data/Tỉnh_MHX_Tích cực 3107.xlsx')\n",
    "neutral = pd.read_excel('/media/vtcc-anhntm/sda4_mnt/SA/data/Tỉnh_MXH_Trung lập 3107.xlsx')\n",
    "spam = pd.read_excel('/media/vtcc-anhntm/sda4_mnt/SA/data/Tỉnh_MXH_Spam 3107.xlsx')\n",
    "rel_neg = pd.read_excel('/media/vtcc-anhntm/sda4_mnt/SA/data/Relabel_Tỉnh_MXH_Negative_Tiêu chí mới.xlsx')\n",
    "rel_pos = pd.read_excel('/media/vtcc-anhntm/sda4_mnt/SA/data/Relabel_Tỉnh_MXH_Positive_Tiêu chí mới.xlsx')\n",
    "#rel_spam = pd.read_excel('data/relabel_spam.xlsx')"
   ]
  },
  {
   "cell_type": "code",
   "execution_count": 12,
   "metadata": {
    "tags": []
   },
   "outputs": [
    {
     "output_type": "execute_result",
     "data": {
      "text/plain": "0       ⁉️⁉️⁉️⁉️⁉️⁉️⁉️⁉️⁉️⁉️⁉️⁉️⁉️⁉️⁉️⁉️⁉️⁉️⁉️ ** Lấy ...\n1       \"Mua của c đi, c cân đúng cho\".\\nĐến đi chợ hà...\n2       **Gốc Cảnh Giác** Em vì muốn kiếm thêm thu nhậ...\n3       @Huy Ngoc bạn thích chống cộng sản hay chống c...\n4       @lethi yenmaihành Động Phản lại nhân dân, đi n...\n                              ...                        \n2004    Lừa con nít thì được.\\nThừa Thiên Huế: Thêm nh...\n2005    🐦“Tôi là một bé chim sẻ mồ côi mẹ. Tôi đã nhìn...\n2006    Cuộc cải cách mang dấu ấn các tân giám đốc côn...\n2007    Giáo dục suy đồi khiến ‘nguyên khí quốc gia’ t...\n2008    Nhân việc linh mục Đặng Hữu Nam lợi dụng vào t...\nName: content, Length: 2009, dtype: object"
     },
     "metadata": {},
     "execution_count": 12
    }
   ],
   "source": [
    "rel_neg.head()\n",
    "rel_neg['content']"
   ]
  },
  {
   "cell_type": "code",
   "execution_count": 14,
   "metadata": {},
   "outputs": [
    {
     "output_type": "execute_result",
     "data": {
      "text/plain": "0       3496637930247086748\n1       6960936804931308640\n2       2098793334664347574\n3       8322847178612566655\n4        847950996744400600\n               ...         \n2908    4698188725917138634\n2909    8794071854848615218\n2910    1798273362155071178\n2911    2414077000739601911\n2912    5904312044358735979\nName: id, Length: 2913, dtype: object"
     },
     "metadata": {},
     "execution_count": 14
    }
   ],
   "source": [
    "negative.head()\n",
    "negative['id']"
   ]
  },
  {
   "cell_type": "code",
   "execution_count": 13,
   "metadata": {
    "tags": []
   },
   "outputs": [
    {
     "output_type": "stream",
     "name": "stdout",
     "text": "9074890559992010203\n7417307141496325439\n3757884681844166322\n*6093241785999242303\n*3341651312783033085\n*306419094874642562\n*3878419820919444945\n"
    }
   ],
   "source": [
    "for i in rel_neg['id']:\n",
    "    for j in negative['id']:\n",
    "        if i == j:\n",
    "            print(j)"
   ]
  }
 ]
}